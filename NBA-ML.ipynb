{
 "cells": [
  {
   "cell_type": "code",
   "execution_count": 2,
   "id": "67b2b75c",
   "metadata": {
    "scrolled": true
   },
   "outputs": [
    {
     "data": {
      "text/html": [
       "<div>\n",
       "<style scoped>\n",
       "    .dataframe tbody tr th:only-of-type {\n",
       "        vertical-align: middle;\n",
       "    }\n",
       "\n",
       "    .dataframe tbody tr th {\n",
       "        vertical-align: top;\n",
       "    }\n",
       "\n",
       "    .dataframe thead th {\n",
       "        text-align: right;\n",
       "    }\n",
       "</style>\n",
       "<table border=\"1\" class=\"dataframe\">\n",
       "  <thead>\n",
       "    <tr style=\"text-align: right;\">\n",
       "      <th></th>\n",
       "      <th>Player</th>\n",
       "      <th>Pos</th>\n",
       "      <th>Age</th>\n",
       "      <th>Tm</th>\n",
       "      <th>G</th>\n",
       "      <th>GS</th>\n",
       "      <th>MP</th>\n",
       "      <th>FG</th>\n",
       "      <th>FGA</th>\n",
       "      <th>FG%</th>\n",
       "      <th>3P</th>\n",
       "      <th>3PA</th>\n",
       "      <th>3P%</th>\n",
       "      <th>2P</th>\n",
       "      <th>2PA</th>\n",
       "      <th>2P%</th>\n",
       "      <th>eFG%</th>\n",
       "      <th>FT</th>\n",
       "      <th>FTA</th>\n",
       "      <th>FT%</th>\n",
       "      <th>ORB</th>\n",
       "      <th>DRB</th>\n",
       "      <th>TRB</th>\n",
       "      <th>AST</th>\n",
       "      <th>STL</th>\n",
       "      <th>BLK</th>\n",
       "      <th>TOV</th>\n",
       "      <th>PF</th>\n",
       "      <th>PTS</th>\n",
       "    </tr>\n",
       "    <tr>\n",
       "      <th>Rk</th>\n",
       "      <th></th>\n",
       "      <th></th>\n",
       "      <th></th>\n",
       "      <th></th>\n",
       "      <th></th>\n",
       "      <th></th>\n",
       "      <th></th>\n",
       "      <th></th>\n",
       "      <th></th>\n",
       "      <th></th>\n",
       "      <th></th>\n",
       "      <th></th>\n",
       "      <th></th>\n",
       "      <th></th>\n",
       "      <th></th>\n",
       "      <th></th>\n",
       "      <th></th>\n",
       "      <th></th>\n",
       "      <th></th>\n",
       "      <th></th>\n",
       "      <th></th>\n",
       "      <th></th>\n",
       "      <th></th>\n",
       "      <th></th>\n",
       "      <th></th>\n",
       "      <th></th>\n",
       "      <th></th>\n",
       "      <th></th>\n",
       "      <th></th>\n",
       "    </tr>\n",
       "  </thead>\n",
       "  <tbody>\n",
       "    <tr>\n",
       "      <th>1</th>\n",
       "      <td>Precious Achiuwa</td>\n",
       "      <td>PF-C</td>\n",
       "      <td>24</td>\n",
       "      <td>TOT</td>\n",
       "      <td>74</td>\n",
       "      <td>18</td>\n",
       "      <td>21.9</td>\n",
       "      <td>3.2</td>\n",
       "      <td>6.3</td>\n",
       "      <td>0.501</td>\n",
       "      <td>0.4</td>\n",
       "      <td>1.3</td>\n",
       "      <td>0.268</td>\n",
       "      <td>2.8</td>\n",
       "      <td>5.0</td>\n",
       "      <td>0.562</td>\n",
       "      <td>0.529</td>\n",
       "      <td>0.9</td>\n",
       "      <td>1.5</td>\n",
       "      <td>0.616</td>\n",
       "      <td>2.6</td>\n",
       "      <td>4.0</td>\n",
       "      <td>6.6</td>\n",
       "      <td>1.3</td>\n",
       "      <td>0.6</td>\n",
       "      <td>0.9</td>\n",
       "      <td>1.1</td>\n",
       "      <td>1.9</td>\n",
       "      <td>7.6</td>\n",
       "    </tr>\n",
       "    <tr>\n",
       "      <th>2</th>\n",
       "      <td>Bam Adebayo</td>\n",
       "      <td>C</td>\n",
       "      <td>26</td>\n",
       "      <td>MIA</td>\n",
       "      <td>71</td>\n",
       "      <td>71</td>\n",
       "      <td>34.0</td>\n",
       "      <td>7.5</td>\n",
       "      <td>14.3</td>\n",
       "      <td>0.521</td>\n",
       "      <td>0.2</td>\n",
       "      <td>0.6</td>\n",
       "      <td>0.357</td>\n",
       "      <td>7.3</td>\n",
       "      <td>13.7</td>\n",
       "      <td>0.528</td>\n",
       "      <td>0.529</td>\n",
       "      <td>4.1</td>\n",
       "      <td>5.5</td>\n",
       "      <td>0.755</td>\n",
       "      <td>2.2</td>\n",
       "      <td>8.1</td>\n",
       "      <td>10.4</td>\n",
       "      <td>3.9</td>\n",
       "      <td>1.1</td>\n",
       "      <td>0.9</td>\n",
       "      <td>2.3</td>\n",
       "      <td>2.2</td>\n",
       "      <td>19.3</td>\n",
       "    </tr>\n",
       "    <tr>\n",
       "      <th>3</th>\n",
       "      <td>Ochai Agbaji</td>\n",
       "      <td>SG</td>\n",
       "      <td>23</td>\n",
       "      <td>TOT</td>\n",
       "      <td>78</td>\n",
       "      <td>28</td>\n",
       "      <td>21.0</td>\n",
       "      <td>2.3</td>\n",
       "      <td>5.6</td>\n",
       "      <td>0.411</td>\n",
       "      <td>0.8</td>\n",
       "      <td>2.7</td>\n",
       "      <td>0.294</td>\n",
       "      <td>1.5</td>\n",
       "      <td>2.8</td>\n",
       "      <td>0.523</td>\n",
       "      <td>0.483</td>\n",
       "      <td>0.5</td>\n",
       "      <td>0.7</td>\n",
       "      <td>0.661</td>\n",
       "      <td>0.9</td>\n",
       "      <td>1.8</td>\n",
       "      <td>2.8</td>\n",
       "      <td>1.1</td>\n",
       "      <td>0.6</td>\n",
       "      <td>0.6</td>\n",
       "      <td>0.8</td>\n",
       "      <td>1.5</td>\n",
       "      <td>5.8</td>\n",
       "    </tr>\n",
       "    <tr>\n",
       "      <th>4</th>\n",
       "      <td>Santi Aldama</td>\n",
       "      <td>PF</td>\n",
       "      <td>23</td>\n",
       "      <td>MEM</td>\n",
       "      <td>61</td>\n",
       "      <td>35</td>\n",
       "      <td>26.5</td>\n",
       "      <td>4.0</td>\n",
       "      <td>9.3</td>\n",
       "      <td>0.435</td>\n",
       "      <td>1.7</td>\n",
       "      <td>5.0</td>\n",
       "      <td>0.349</td>\n",
       "      <td>2.3</td>\n",
       "      <td>4.3</td>\n",
       "      <td>0.534</td>\n",
       "      <td>0.528</td>\n",
       "      <td>0.9</td>\n",
       "      <td>1.4</td>\n",
       "      <td>0.621</td>\n",
       "      <td>1.2</td>\n",
       "      <td>4.6</td>\n",
       "      <td>5.8</td>\n",
       "      <td>2.3</td>\n",
       "      <td>0.7</td>\n",
       "      <td>0.9</td>\n",
       "      <td>1.1</td>\n",
       "      <td>1.5</td>\n",
       "      <td>10.7</td>\n",
       "    </tr>\n",
       "    <tr>\n",
       "      <th>5</th>\n",
       "      <td>Nickeil Alexander-Walker</td>\n",
       "      <td>SG</td>\n",
       "      <td>25</td>\n",
       "      <td>MIN</td>\n",
       "      <td>82</td>\n",
       "      <td>20</td>\n",
       "      <td>23.4</td>\n",
       "      <td>2.9</td>\n",
       "      <td>6.6</td>\n",
       "      <td>0.439</td>\n",
       "      <td>1.6</td>\n",
       "      <td>4.1</td>\n",
       "      <td>0.391</td>\n",
       "      <td>1.3</td>\n",
       "      <td>2.5</td>\n",
       "      <td>0.517</td>\n",
       "      <td>0.560</td>\n",
       "      <td>0.6</td>\n",
       "      <td>0.8</td>\n",
       "      <td>0.800</td>\n",
       "      <td>0.4</td>\n",
       "      <td>1.6</td>\n",
       "      <td>2.0</td>\n",
       "      <td>2.5</td>\n",
       "      <td>0.8</td>\n",
       "      <td>0.5</td>\n",
       "      <td>0.9</td>\n",
       "      <td>1.7</td>\n",
       "      <td>8.0</td>\n",
       "    </tr>\n",
       "    <tr>\n",
       "      <th>6</th>\n",
       "      <td>Grayson Allen</td>\n",
       "      <td>SG</td>\n",
       "      <td>28</td>\n",
       "      <td>PHO</td>\n",
       "      <td>75</td>\n",
       "      <td>74</td>\n",
       "      <td>33.5</td>\n",
       "      <td>4.5</td>\n",
       "      <td>9.1</td>\n",
       "      <td>0.499</td>\n",
       "      <td>2.7</td>\n",
       "      <td>5.9</td>\n",
       "      <td>0.461</td>\n",
       "      <td>1.8</td>\n",
       "      <td>3.2</td>\n",
       "      <td>0.570</td>\n",
       "      <td>0.649</td>\n",
       "      <td>1.7</td>\n",
       "      <td>2.0</td>\n",
       "      <td>0.878</td>\n",
       "      <td>0.6</td>\n",
       "      <td>3.3</td>\n",
       "      <td>3.9</td>\n",
       "      <td>3.0</td>\n",
       "      <td>0.9</td>\n",
       "      <td>0.6</td>\n",
       "      <td>1.3</td>\n",
       "      <td>2.1</td>\n",
       "      <td>13.5</td>\n",
       "    </tr>\n",
       "    <tr>\n",
       "      <th>7</th>\n",
       "      <td>Jarrett Allen</td>\n",
       "      <td>C</td>\n",
       "      <td>25</td>\n",
       "      <td>CLE</td>\n",
       "      <td>77</td>\n",
       "      <td>77</td>\n",
       "      <td>31.7</td>\n",
       "      <td>6.7</td>\n",
       "      <td>10.6</td>\n",
       "      <td>0.634</td>\n",
       "      <td>0.0</td>\n",
       "      <td>0.1</td>\n",
       "      <td>0.000</td>\n",
       "      <td>6.7</td>\n",
       "      <td>10.6</td>\n",
       "      <td>0.638</td>\n",
       "      <td>0.634</td>\n",
       "      <td>3.0</td>\n",
       "      <td>4.1</td>\n",
       "      <td>0.742</td>\n",
       "      <td>3.2</td>\n",
       "      <td>7.4</td>\n",
       "      <td>10.5</td>\n",
       "      <td>2.7</td>\n",
       "      <td>0.7</td>\n",
       "      <td>1.1</td>\n",
       "      <td>1.6</td>\n",
       "      <td>1.9</td>\n",
       "      <td>16.5</td>\n",
       "    </tr>\n",
       "    <tr>\n",
       "      <th>8</th>\n",
       "      <td>Timmy Allen</td>\n",
       "      <td>SF</td>\n",
       "      <td>24</td>\n",
       "      <td>MEM</td>\n",
       "      <td>5</td>\n",
       "      <td>0</td>\n",
       "      <td>25.0</td>\n",
       "      <td>1.2</td>\n",
       "      <td>4.6</td>\n",
       "      <td>0.261</td>\n",
       "      <td>0.0</td>\n",
       "      <td>1.4</td>\n",
       "      <td>0.000</td>\n",
       "      <td>1.2</td>\n",
       "      <td>3.2</td>\n",
       "      <td>0.375</td>\n",
       "      <td>0.261</td>\n",
       "      <td>0.2</td>\n",
       "      <td>0.4</td>\n",
       "      <td>0.500</td>\n",
       "      <td>0.8</td>\n",
       "      <td>2.6</td>\n",
       "      <td>3.4</td>\n",
       "      <td>1.0</td>\n",
       "      <td>0.8</td>\n",
       "      <td>0.0</td>\n",
       "      <td>0.4</td>\n",
       "      <td>3.6</td>\n",
       "      <td>2.6</td>\n",
       "    </tr>\n",
       "    <tr>\n",
       "      <th>9</th>\n",
       "      <td>Jose Alvarado</td>\n",
       "      <td>PG</td>\n",
       "      <td>25</td>\n",
       "      <td>NOP</td>\n",
       "      <td>56</td>\n",
       "      <td>0</td>\n",
       "      <td>18.4</td>\n",
       "      <td>2.5</td>\n",
       "      <td>6.2</td>\n",
       "      <td>0.412</td>\n",
       "      <td>1.4</td>\n",
       "      <td>3.7</td>\n",
       "      <td>0.377</td>\n",
       "      <td>1.1</td>\n",
       "      <td>2.5</td>\n",
       "      <td>0.464</td>\n",
       "      <td>0.525</td>\n",
       "      <td>0.6</td>\n",
       "      <td>0.9</td>\n",
       "      <td>0.673</td>\n",
       "      <td>0.4</td>\n",
       "      <td>1.8</td>\n",
       "      <td>2.3</td>\n",
       "      <td>2.1</td>\n",
       "      <td>1.1</td>\n",
       "      <td>0.3</td>\n",
       "      <td>0.7</td>\n",
       "      <td>1.6</td>\n",
       "      <td>7.1</td>\n",
       "    </tr>\n",
       "    <tr>\n",
       "      <th>10</th>\n",
       "      <td>Kyle Anderson</td>\n",
       "      <td>PF</td>\n",
       "      <td>30</td>\n",
       "      <td>MIN</td>\n",
       "      <td>79</td>\n",
       "      <td>10</td>\n",
       "      <td>22.6</td>\n",
       "      <td>2.5</td>\n",
       "      <td>5.5</td>\n",
       "      <td>0.460</td>\n",
       "      <td>0.1</td>\n",
       "      <td>0.6</td>\n",
       "      <td>0.229</td>\n",
       "      <td>2.4</td>\n",
       "      <td>4.9</td>\n",
       "      <td>0.488</td>\n",
       "      <td>0.472</td>\n",
       "      <td>1.2</td>\n",
       "      <td>1.7</td>\n",
       "      <td>0.708</td>\n",
       "      <td>0.8</td>\n",
       "      <td>2.7</td>\n",
       "      <td>3.5</td>\n",
       "      <td>4.2</td>\n",
       "      <td>0.9</td>\n",
       "      <td>0.6</td>\n",
       "      <td>1.2</td>\n",
       "      <td>1.6</td>\n",
       "      <td>6.4</td>\n",
       "    </tr>\n",
       "  </tbody>\n",
       "</table>\n",
       "</div>"
      ],
      "text/plain": [
       "                      Player   Pos  Age   Tm   G  GS    MP   FG   FGA    FG%  \\\n",
       "Rk                                                                             \n",
       "1           Precious Achiuwa  PF-C   24  TOT  74  18  21.9  3.2   6.3  0.501   \n",
       "2                Bam Adebayo     C   26  MIA  71  71  34.0  7.5  14.3  0.521   \n",
       "3               Ochai Agbaji    SG   23  TOT  78  28  21.0  2.3   5.6  0.411   \n",
       "4               Santi Aldama    PF   23  MEM  61  35  26.5  4.0   9.3  0.435   \n",
       "5   Nickeil Alexander-Walker    SG   25  MIN  82  20  23.4  2.9   6.6  0.439   \n",
       "6              Grayson Allen    SG   28  PHO  75  74  33.5  4.5   9.1  0.499   \n",
       "7              Jarrett Allen     C   25  CLE  77  77  31.7  6.7  10.6  0.634   \n",
       "8                Timmy Allen    SF   24  MEM   5   0  25.0  1.2   4.6  0.261   \n",
       "9              Jose Alvarado    PG   25  NOP  56   0  18.4  2.5   6.2  0.412   \n",
       "10             Kyle Anderson    PF   30  MIN  79  10  22.6  2.5   5.5  0.460   \n",
       "\n",
       "     3P  3PA    3P%   2P   2PA    2P%   eFG%   FT  FTA    FT%  ORB  DRB   TRB  \\\n",
       "Rk                                                                              \n",
       "1   0.4  1.3  0.268  2.8   5.0  0.562  0.529  0.9  1.5  0.616  2.6  4.0   6.6   \n",
       "2   0.2  0.6  0.357  7.3  13.7  0.528  0.529  4.1  5.5  0.755  2.2  8.1  10.4   \n",
       "3   0.8  2.7  0.294  1.5   2.8  0.523  0.483  0.5  0.7  0.661  0.9  1.8   2.8   \n",
       "4   1.7  5.0  0.349  2.3   4.3  0.534  0.528  0.9  1.4  0.621  1.2  4.6   5.8   \n",
       "5   1.6  4.1  0.391  1.3   2.5  0.517  0.560  0.6  0.8  0.800  0.4  1.6   2.0   \n",
       "6   2.7  5.9  0.461  1.8   3.2  0.570  0.649  1.7  2.0  0.878  0.6  3.3   3.9   \n",
       "7   0.0  0.1  0.000  6.7  10.6  0.638  0.634  3.0  4.1  0.742  3.2  7.4  10.5   \n",
       "8   0.0  1.4  0.000  1.2   3.2  0.375  0.261  0.2  0.4  0.500  0.8  2.6   3.4   \n",
       "9   1.4  3.7  0.377  1.1   2.5  0.464  0.525  0.6  0.9  0.673  0.4  1.8   2.3   \n",
       "10  0.1  0.6  0.229  2.4   4.9  0.488  0.472  1.2  1.7  0.708  0.8  2.7   3.5   \n",
       "\n",
       "    AST  STL  BLK  TOV   PF   PTS  \n",
       "Rk                                 \n",
       "1   1.3  0.6  0.9  1.1  1.9   7.6  \n",
       "2   3.9  1.1  0.9  2.3  2.2  19.3  \n",
       "3   1.1  0.6  0.6  0.8  1.5   5.8  \n",
       "4   2.3  0.7  0.9  1.1  1.5  10.7  \n",
       "5   2.5  0.8  0.5  0.9  1.7   8.0  \n",
       "6   3.0  0.9  0.6  1.3  2.1  13.5  \n",
       "7   2.7  0.7  1.1  1.6  1.9  16.5  \n",
       "8   1.0  0.8  0.0  0.4  3.6   2.6  \n",
       "9   2.1  1.1  0.3  0.7  1.6   7.1  \n",
       "10  4.2  0.9  0.6  1.2  1.6   6.4  "
      ]
     },
     "execution_count": 2,
     "metadata": {},
     "output_type": "execute_result"
    }
   ],
   "source": [
    "import pandas as pd\n",
    "import matplotlib.pyplot as plt\n",
    "from sklearn.cluster import KMeans\n",
    "\n",
    "# load the customer data into a DataFrame\n",
    "nba_df = pd.read_csv('2023-2024 NBA Player Stats - Regular.csv', delimiter=\";\", encoding=\"latin-1\", index_col=0)\n",
    "\n",
    "# Remove duplicate players- i.e. players who changed teams during the season- and keep only total player stats for that player\n",
    "nba_df.drop_duplicates(subset = \"Player\", keep = \"first\", inplace = True)\n",
    "\n",
    "# Check the first 10 rows\n",
    "pd.set_option('display.max_columns', None)\n",
    "nba_df.head(10)"
   ]
  },
  {
   "cell_type": "code",
   "execution_count": 9,
   "id": "8031d080",
   "metadata": {},
   "outputs": [
    {
     "data": {
      "text/html": [
       "<div>\n",
       "<style scoped>\n",
       "    .dataframe tbody tr th:only-of-type {\n",
       "        vertical-align: middle;\n",
       "    }\n",
       "\n",
       "    .dataframe tbody tr th {\n",
       "        vertical-align: top;\n",
       "    }\n",
       "\n",
       "    .dataframe thead th {\n",
       "        text-align: right;\n",
       "    }\n",
       "</style>\n",
       "<table border=\"1\" class=\"dataframe\">\n",
       "  <thead>\n",
       "    <tr style=\"text-align: right;\">\n",
       "      <th></th>\n",
       "      <th>Player</th>\n",
       "      <th>Pos</th>\n",
       "      <th>Age</th>\n",
       "      <th>Tm</th>\n",
       "      <th>G</th>\n",
       "      <th>GS</th>\n",
       "      <th>MP</th>\n",
       "      <th>FG</th>\n",
       "      <th>FGA</th>\n",
       "      <th>FG%</th>\n",
       "      <th>3P</th>\n",
       "      <th>3PA</th>\n",
       "      <th>3P%</th>\n",
       "      <th>2P</th>\n",
       "      <th>2PA</th>\n",
       "      <th>2P%</th>\n",
       "      <th>eFG%</th>\n",
       "      <th>FT</th>\n",
       "      <th>FTA</th>\n",
       "      <th>FT%</th>\n",
       "      <th>ORB</th>\n",
       "      <th>DRB</th>\n",
       "      <th>TRB</th>\n",
       "      <th>AST</th>\n",
       "      <th>STL</th>\n",
       "      <th>BLK</th>\n",
       "      <th>TOV</th>\n",
       "      <th>PF</th>\n",
       "      <th>PTS</th>\n",
       "    </tr>\n",
       "    <tr>\n",
       "      <th>Rk</th>\n",
       "      <th></th>\n",
       "      <th></th>\n",
       "      <th></th>\n",
       "      <th></th>\n",
       "      <th></th>\n",
       "      <th></th>\n",
       "      <th></th>\n",
       "      <th></th>\n",
       "      <th></th>\n",
       "      <th></th>\n",
       "      <th></th>\n",
       "      <th></th>\n",
       "      <th></th>\n",
       "      <th></th>\n",
       "      <th></th>\n",
       "      <th></th>\n",
       "      <th></th>\n",
       "      <th></th>\n",
       "      <th></th>\n",
       "      <th></th>\n",
       "      <th></th>\n",
       "      <th></th>\n",
       "      <th></th>\n",
       "      <th></th>\n",
       "      <th></th>\n",
       "      <th></th>\n",
       "      <th></th>\n",
       "      <th></th>\n",
       "      <th></th>\n",
       "    </tr>\n",
       "  </thead>\n",
       "  <tbody>\n",
       "    <tr>\n",
       "      <th>1</th>\n",
       "      <td>Precious Achiuwa</td>\n",
       "      <td>PF-C</td>\n",
       "      <td>24</td>\n",
       "      <td>TOT</td>\n",
       "      <td>74</td>\n",
       "      <td>18</td>\n",
       "      <td>21.9</td>\n",
       "      <td>3.2</td>\n",
       "      <td>6.3</td>\n",
       "      <td>0.501</td>\n",
       "      <td>0.4</td>\n",
       "      <td>1.3</td>\n",
       "      <td>0.268</td>\n",
       "      <td>2.8</td>\n",
       "      <td>5.0</td>\n",
       "      <td>0.562</td>\n",
       "      <td>0.529</td>\n",
       "      <td>0.9</td>\n",
       "      <td>1.5</td>\n",
       "      <td>0.616</td>\n",
       "      <td>2.6</td>\n",
       "      <td>4.0</td>\n",
       "      <td>6.6</td>\n",
       "      <td>1.3</td>\n",
       "      <td>0.6</td>\n",
       "      <td>0.9</td>\n",
       "      <td>1.1</td>\n",
       "      <td>1.9</td>\n",
       "      <td>7.6</td>\n",
       "    </tr>\n",
       "    <tr>\n",
       "      <th>2</th>\n",
       "      <td>Bam Adebayo</td>\n",
       "      <td>C</td>\n",
       "      <td>26</td>\n",
       "      <td>MIA</td>\n",
       "      <td>71</td>\n",
       "      <td>71</td>\n",
       "      <td>34.0</td>\n",
       "      <td>7.5</td>\n",
       "      <td>14.3</td>\n",
       "      <td>0.521</td>\n",
       "      <td>0.2</td>\n",
       "      <td>0.6</td>\n",
       "      <td>0.357</td>\n",
       "      <td>7.3</td>\n",
       "      <td>13.7</td>\n",
       "      <td>0.528</td>\n",
       "      <td>0.529</td>\n",
       "      <td>4.1</td>\n",
       "      <td>5.5</td>\n",
       "      <td>0.755</td>\n",
       "      <td>2.2</td>\n",
       "      <td>8.1</td>\n",
       "      <td>10.4</td>\n",
       "      <td>3.9</td>\n",
       "      <td>1.1</td>\n",
       "      <td>0.9</td>\n",
       "      <td>2.3</td>\n",
       "      <td>2.2</td>\n",
       "      <td>19.3</td>\n",
       "    </tr>\n",
       "    <tr>\n",
       "      <th>3</th>\n",
       "      <td>Ochai Agbaji</td>\n",
       "      <td>SG</td>\n",
       "      <td>23</td>\n",
       "      <td>TOT</td>\n",
       "      <td>78</td>\n",
       "      <td>28</td>\n",
       "      <td>21.0</td>\n",
       "      <td>2.3</td>\n",
       "      <td>5.6</td>\n",
       "      <td>0.411</td>\n",
       "      <td>0.8</td>\n",
       "      <td>2.7</td>\n",
       "      <td>0.294</td>\n",
       "      <td>1.5</td>\n",
       "      <td>2.8</td>\n",
       "      <td>0.523</td>\n",
       "      <td>0.483</td>\n",
       "      <td>0.5</td>\n",
       "      <td>0.7</td>\n",
       "      <td>0.661</td>\n",
       "      <td>0.9</td>\n",
       "      <td>1.8</td>\n",
       "      <td>2.8</td>\n",
       "      <td>1.1</td>\n",
       "      <td>0.6</td>\n",
       "      <td>0.6</td>\n",
       "      <td>0.8</td>\n",
       "      <td>1.5</td>\n",
       "      <td>5.8</td>\n",
       "    </tr>\n",
       "    <tr>\n",
       "      <th>4</th>\n",
       "      <td>Santi Aldama</td>\n",
       "      <td>PF</td>\n",
       "      <td>23</td>\n",
       "      <td>MEM</td>\n",
       "      <td>61</td>\n",
       "      <td>35</td>\n",
       "      <td>26.5</td>\n",
       "      <td>4.0</td>\n",
       "      <td>9.3</td>\n",
       "      <td>0.435</td>\n",
       "      <td>1.7</td>\n",
       "      <td>5.0</td>\n",
       "      <td>0.349</td>\n",
       "      <td>2.3</td>\n",
       "      <td>4.3</td>\n",
       "      <td>0.534</td>\n",
       "      <td>0.528</td>\n",
       "      <td>0.9</td>\n",
       "      <td>1.4</td>\n",
       "      <td>0.621</td>\n",
       "      <td>1.2</td>\n",
       "      <td>4.6</td>\n",
       "      <td>5.8</td>\n",
       "      <td>2.3</td>\n",
       "      <td>0.7</td>\n",
       "      <td>0.9</td>\n",
       "      <td>1.1</td>\n",
       "      <td>1.5</td>\n",
       "      <td>10.7</td>\n",
       "    </tr>\n",
       "    <tr>\n",
       "      <th>5</th>\n",
       "      <td>Nickeil Alexander-Walker</td>\n",
       "      <td>SG</td>\n",
       "      <td>25</td>\n",
       "      <td>MIN</td>\n",
       "      <td>82</td>\n",
       "      <td>20</td>\n",
       "      <td>23.4</td>\n",
       "      <td>2.9</td>\n",
       "      <td>6.6</td>\n",
       "      <td>0.439</td>\n",
       "      <td>1.6</td>\n",
       "      <td>4.1</td>\n",
       "      <td>0.391</td>\n",
       "      <td>1.3</td>\n",
       "      <td>2.5</td>\n",
       "      <td>0.517</td>\n",
       "      <td>0.560</td>\n",
       "      <td>0.6</td>\n",
       "      <td>0.8</td>\n",
       "      <td>0.800</td>\n",
       "      <td>0.4</td>\n",
       "      <td>1.6</td>\n",
       "      <td>2.0</td>\n",
       "      <td>2.5</td>\n",
       "      <td>0.8</td>\n",
       "      <td>0.5</td>\n",
       "      <td>0.9</td>\n",
       "      <td>1.7</td>\n",
       "      <td>8.0</td>\n",
       "    </tr>\n",
       "    <tr>\n",
       "      <th>6</th>\n",
       "      <td>Grayson Allen</td>\n",
       "      <td>SG</td>\n",
       "      <td>28</td>\n",
       "      <td>PHO</td>\n",
       "      <td>75</td>\n",
       "      <td>74</td>\n",
       "      <td>33.5</td>\n",
       "      <td>4.5</td>\n",
       "      <td>9.1</td>\n",
       "      <td>0.499</td>\n",
       "      <td>2.7</td>\n",
       "      <td>5.9</td>\n",
       "      <td>0.461</td>\n",
       "      <td>1.8</td>\n",
       "      <td>3.2</td>\n",
       "      <td>0.570</td>\n",
       "      <td>0.649</td>\n",
       "      <td>1.7</td>\n",
       "      <td>2.0</td>\n",
       "      <td>0.878</td>\n",
       "      <td>0.6</td>\n",
       "      <td>3.3</td>\n",
       "      <td>3.9</td>\n",
       "      <td>3.0</td>\n",
       "      <td>0.9</td>\n",
       "      <td>0.6</td>\n",
       "      <td>1.3</td>\n",
       "      <td>2.1</td>\n",
       "      <td>13.5</td>\n",
       "    </tr>\n",
       "    <tr>\n",
       "      <th>7</th>\n",
       "      <td>Jarrett Allen</td>\n",
       "      <td>C</td>\n",
       "      <td>25</td>\n",
       "      <td>CLE</td>\n",
       "      <td>77</td>\n",
       "      <td>77</td>\n",
       "      <td>31.7</td>\n",
       "      <td>6.7</td>\n",
       "      <td>10.6</td>\n",
       "      <td>0.634</td>\n",
       "      <td>0.0</td>\n",
       "      <td>0.1</td>\n",
       "      <td>0.000</td>\n",
       "      <td>6.7</td>\n",
       "      <td>10.6</td>\n",
       "      <td>0.638</td>\n",
       "      <td>0.634</td>\n",
       "      <td>3.0</td>\n",
       "      <td>4.1</td>\n",
       "      <td>0.742</td>\n",
       "      <td>3.2</td>\n",
       "      <td>7.4</td>\n",
       "      <td>10.5</td>\n",
       "      <td>2.7</td>\n",
       "      <td>0.7</td>\n",
       "      <td>1.1</td>\n",
       "      <td>1.6</td>\n",
       "      <td>1.9</td>\n",
       "      <td>16.5</td>\n",
       "    </tr>\n",
       "    <tr>\n",
       "      <th>9</th>\n",
       "      <td>Jose Alvarado</td>\n",
       "      <td>PG</td>\n",
       "      <td>25</td>\n",
       "      <td>NOP</td>\n",
       "      <td>56</td>\n",
       "      <td>0</td>\n",
       "      <td>18.4</td>\n",
       "      <td>2.5</td>\n",
       "      <td>6.2</td>\n",
       "      <td>0.412</td>\n",
       "      <td>1.4</td>\n",
       "      <td>3.7</td>\n",
       "      <td>0.377</td>\n",
       "      <td>1.1</td>\n",
       "      <td>2.5</td>\n",
       "      <td>0.464</td>\n",
       "      <td>0.525</td>\n",
       "      <td>0.6</td>\n",
       "      <td>0.9</td>\n",
       "      <td>0.673</td>\n",
       "      <td>0.4</td>\n",
       "      <td>1.8</td>\n",
       "      <td>2.3</td>\n",
       "      <td>2.1</td>\n",
       "      <td>1.1</td>\n",
       "      <td>0.3</td>\n",
       "      <td>0.7</td>\n",
       "      <td>1.6</td>\n",
       "      <td>7.1</td>\n",
       "    </tr>\n",
       "    <tr>\n",
       "      <th>10</th>\n",
       "      <td>Kyle Anderson</td>\n",
       "      <td>PF</td>\n",
       "      <td>30</td>\n",
       "      <td>MIN</td>\n",
       "      <td>79</td>\n",
       "      <td>10</td>\n",
       "      <td>22.6</td>\n",
       "      <td>2.5</td>\n",
       "      <td>5.5</td>\n",
       "      <td>0.460</td>\n",
       "      <td>0.1</td>\n",
       "      <td>0.6</td>\n",
       "      <td>0.229</td>\n",
       "      <td>2.4</td>\n",
       "      <td>4.9</td>\n",
       "      <td>0.488</td>\n",
       "      <td>0.472</td>\n",
       "      <td>1.2</td>\n",
       "      <td>1.7</td>\n",
       "      <td>0.708</td>\n",
       "      <td>0.8</td>\n",
       "      <td>2.7</td>\n",
       "      <td>3.5</td>\n",
       "      <td>4.2</td>\n",
       "      <td>0.9</td>\n",
       "      <td>0.6</td>\n",
       "      <td>1.2</td>\n",
       "      <td>1.6</td>\n",
       "      <td>6.4</td>\n",
       "    </tr>\n",
       "    <tr>\n",
       "      <th>11</th>\n",
       "      <td>Giannis Antetokounmpo</td>\n",
       "      <td>PF</td>\n",
       "      <td>29</td>\n",
       "      <td>MIL</td>\n",
       "      <td>73</td>\n",
       "      <td>73</td>\n",
       "      <td>35.2</td>\n",
       "      <td>11.5</td>\n",
       "      <td>18.8</td>\n",
       "      <td>0.611</td>\n",
       "      <td>0.5</td>\n",
       "      <td>1.7</td>\n",
       "      <td>0.274</td>\n",
       "      <td>11.0</td>\n",
       "      <td>17.1</td>\n",
       "      <td>0.645</td>\n",
       "      <td>0.624</td>\n",
       "      <td>7.0</td>\n",
       "      <td>10.7</td>\n",
       "      <td>0.657</td>\n",
       "      <td>2.7</td>\n",
       "      <td>8.8</td>\n",
       "      <td>11.5</td>\n",
       "      <td>6.5</td>\n",
       "      <td>1.2</td>\n",
       "      <td>1.1</td>\n",
       "      <td>3.4</td>\n",
       "      <td>2.9</td>\n",
       "      <td>30.4</td>\n",
       "    </tr>\n",
       "  </tbody>\n",
       "</table>\n",
       "</div>"
      ],
      "text/plain": [
       "                      Player   Pos  Age   Tm   G  GS    MP    FG   FGA    FG%  \\\n",
       "Rk                                                                              \n",
       "1           Precious Achiuwa  PF-C   24  TOT  74  18  21.9   3.2   6.3  0.501   \n",
       "2                Bam Adebayo     C   26  MIA  71  71  34.0   7.5  14.3  0.521   \n",
       "3               Ochai Agbaji    SG   23  TOT  78  28  21.0   2.3   5.6  0.411   \n",
       "4               Santi Aldama    PF   23  MEM  61  35  26.5   4.0   9.3  0.435   \n",
       "5   Nickeil Alexander-Walker    SG   25  MIN  82  20  23.4   2.9   6.6  0.439   \n",
       "6              Grayson Allen    SG   28  PHO  75  74  33.5   4.5   9.1  0.499   \n",
       "7              Jarrett Allen     C   25  CLE  77  77  31.7   6.7  10.6  0.634   \n",
       "9              Jose Alvarado    PG   25  NOP  56   0  18.4   2.5   6.2  0.412   \n",
       "10             Kyle Anderson    PF   30  MIN  79  10  22.6   2.5   5.5  0.460   \n",
       "11     Giannis Antetokounmpo    PF   29  MIL  73  73  35.2  11.5  18.8  0.611   \n",
       "\n",
       "     3P  3PA    3P%    2P   2PA    2P%   eFG%   FT   FTA    FT%  ORB  DRB  \\\n",
       "Rk                                                                          \n",
       "1   0.4  1.3  0.268   2.8   5.0  0.562  0.529  0.9   1.5  0.616  2.6  4.0   \n",
       "2   0.2  0.6  0.357   7.3  13.7  0.528  0.529  4.1   5.5  0.755  2.2  8.1   \n",
       "3   0.8  2.7  0.294   1.5   2.8  0.523  0.483  0.5   0.7  0.661  0.9  1.8   \n",
       "4   1.7  5.0  0.349   2.3   4.3  0.534  0.528  0.9   1.4  0.621  1.2  4.6   \n",
       "5   1.6  4.1  0.391   1.3   2.5  0.517  0.560  0.6   0.8  0.800  0.4  1.6   \n",
       "6   2.7  5.9  0.461   1.8   3.2  0.570  0.649  1.7   2.0  0.878  0.6  3.3   \n",
       "7   0.0  0.1  0.000   6.7  10.6  0.638  0.634  3.0   4.1  0.742  3.2  7.4   \n",
       "9   1.4  3.7  0.377   1.1   2.5  0.464  0.525  0.6   0.9  0.673  0.4  1.8   \n",
       "10  0.1  0.6  0.229   2.4   4.9  0.488  0.472  1.2   1.7  0.708  0.8  2.7   \n",
       "11  0.5  1.7  0.274  11.0  17.1  0.645  0.624  7.0  10.7  0.657  2.7  8.8   \n",
       "\n",
       "     TRB  AST  STL  BLK  TOV   PF   PTS  \n",
       "Rk                                       \n",
       "1    6.6  1.3  0.6  0.9  1.1  1.9   7.6  \n",
       "2   10.4  3.9  1.1  0.9  2.3  2.2  19.3  \n",
       "3    2.8  1.1  0.6  0.6  0.8  1.5   5.8  \n",
       "4    5.8  2.3  0.7  0.9  1.1  1.5  10.7  \n",
       "5    2.0  2.5  0.8  0.5  0.9  1.7   8.0  \n",
       "6    3.9  3.0  0.9  0.6  1.3  2.1  13.5  \n",
       "7   10.5  2.7  0.7  1.1  1.6  1.9  16.5  \n",
       "9    2.3  2.1  1.1  0.3  0.7  1.6   7.1  \n",
       "10   3.5  4.2  0.9  0.6  1.2  1.6   6.4  \n",
       "11  11.5  6.5  1.2  1.1  3.4  2.9  30.4  "
      ]
     },
     "execution_count": 9,
     "metadata": {},
     "output_type": "execute_result"
    }
   ],
   "source": [
    "nba_df2 = nba_df[nba_df['G'] >= 41]\n",
    "nba_df2.head(10)"
   ]
  },
  {
   "cell_type": "code",
   "execution_count": 10,
   "id": "59540c13",
   "metadata": {},
   "outputs": [
    {
     "data": {
      "text/plain": [
       "SF       76\n",
       "SG       72\n",
       "C        65\n",
       "PF       64\n",
       "PG       61\n",
       "PG-SG     3\n",
       "C-PF      2\n",
       "PF-C      1\n",
       "SF-PF     1\n",
       "PF-SF     1\n",
       "SF-SG     1\n",
       "SG-PG     1\n",
       "Name: Pos, dtype: int64"
      ]
     },
     "execution_count": 10,
     "metadata": {},
     "output_type": "execute_result"
    }
   ],
   "source": [
    "nba_df2[\"Pos\"].value_counts()"
   ]
  },
  {
   "cell_type": "code",
   "execution_count": 12,
   "id": "db494eea",
   "metadata": {},
   "outputs": [
    {
     "name": "stderr",
     "output_type": "stream",
     "text": [
      "C:\\Users\\srken\\AppData\\Local\\Temp\\ipykernel_39868\\1666923495.py:1: SettingWithCopyWarning: \n",
      "A value is trying to be set on a copy of a slice from a DataFrame\n",
      "\n",
      "See the caveats in the documentation: https://pandas.pydata.org/pandas-docs/stable/user_guide/indexing.html#returning-a-view-versus-a-copy\n",
      "  nba_df2['Pos'].replace(['PG', 'SG', 'SF', 'PF', 'C', 'PG-SG', 'C-PF', 'PF-C', 'SF-PF', 'PF-SF', 'SF-SG', 'SG-PG'],\n"
     ]
    }
   ],
   "source": [
    "nba_df2['Pos'].replace(['PG', 'SG', 'SF', 'PF', 'C', 'PG-SG', 'C-PF', 'PF-C', 'SF-PF', 'PF-SF', 'SF-SG', 'SG-PG'],\n",
    "                      [1, 2, 3, 4, 5, 1, 5, 4, 3, 4, 3, 2], inplace=True)"
   ]
  },
  {
   "cell_type": "code",
   "execution_count": 13,
   "id": "255d7780",
   "metadata": {},
   "outputs": [
    {
     "data": {
      "text/plain": [
       "3    78\n",
       "2    73\n",
       "5    67\n",
       "4    66\n",
       "1    64\n",
       "Name: Pos, dtype: int64"
      ]
     },
     "execution_count": 13,
     "metadata": {},
     "output_type": "execute_result"
    }
   ],
   "source": [
    "nba_df2['Pos'].value_counts()"
   ]
  },
  {
   "cell_type": "code",
   "execution_count": 14,
   "id": "4719a998",
   "metadata": {},
   "outputs": [
    {
     "data": {
      "image/png": "[encoded data removed]",
      "text/plain": [
       "<Figure size 1200x800 with 30 Axes>"
      ]
     },
     "metadata": {},
     "output_type": "display_data"
    }
   ],
   "source": [
    "nba_df2.hist(bins=50, figsize = (12, 8))\n",
    "plt.show()"
   ]
  },
  {
   "cell_type": "code",
   "execution_count": 19,
   "id": "d356da12",
   "metadata": {},
   "outputs": [
    {
     "name": "stderr",
     "output_type": "stream",
     "text": [
      "C:\\Users\\srken\\AppData\\Local\\Temp\\ipykernel_39868\\1066718238.py:2: SettingWithCopyWarning: \n",
      "A value is trying to be set on a copy of a slice from a DataFrame.\n",
      "Try using .loc[row_indexer,col_indexer] = value instead\n",
      "\n",
      "See the caveats in the documentation: https://pandas.pydata.org/pandas-docs/stable/user_guide/indexing.html#returning-a-view-versus-a-copy\n",
      "  nba_df2[\"mp_cat\"] = pd.cut(nba_df2[\"MP\"],\n"
     ]
    }
   ],
   "source": [
    "import numpy as np"
   ]
  },
  {
   "cell_type": "code",
   "execution_count": 20,
   "id": "5cc5ed9b",
   "metadata": {},
   "outputs": [
    {
     "data": {
      "image/png": "[encoded data removed]",
      "text/plain": [
       "<Figure size 640x480 with 1 Axes>"
      ]
     },
     "metadata": {},
     "output_type": "display_data"
    }
   ],
   "source": []
  },
  {
   "cell_type": "code",
   "execution_count": 21,
   "id": "039d69c0",
   "metadata": {},
   "outputs": [],
   "source": []
  },
  {
   "cell_type": "code",
   "execution_count": 23,
   "id": "e2901b1e",
   "metadata": {},
   "outputs": [
    {
     "data": {
      "text/plain": [
       "2    0.328571\n",
       "5    0.242857\n",
       "4    0.214286\n",
       "3    0.142857\n",
       "1    0.042857\n",
       "6    0.028571\n",
       "Name: mp_cat, dtype: float64"
      ]
     },
     "execution_count": 23,
     "metadata": {},
     "output_type": "execute_result"
    }
   ],
   "source": []
  },
  {
   "cell_type": "code",
   "execution_count": 24,
   "id": "1e83602b",
   "metadata": {},
   "outputs": [],
   "source": []
  },
  {
   "cell_type": "code",
   "execution_count": 25,
   "id": "ddf904f6",
   "metadata": {},
   "outputs": [],
   "source": [
    "corr_matrix = nba_df2.corr()"
   ]
  },
  {
   "cell_type": "code",
   "execution_count": 27,
   "id": "6c09cacd",
   "metadata": {},
   "outputs": [
    {
     "data": {
      "text/plain": [
       "Pos     1.000000\n",
       "ORB     0.615606\n",
       "FG%     0.530608\n",
       "2P%     0.528608\n",
       "TRB     0.496817\n",
       "BLK     0.479463\n",
       "DRB     0.400281\n",
       "eFG%    0.379411\n",
       "PF      0.220871\n",
       "2P      0.116052\n",
       "Age     0.060011\n",
       "FTA     0.037043\n",
       "2PA     0.026447\n",
       "GS      0.003385\n",
       "FT     -0.019892\n",
       "G      -0.053887\n",
       "FG     -0.058504\n",
       "PTS    -0.102946\n",
       "MP     -0.118485\n",
       "TOV    -0.126360\n",
       "FGA    -0.177640\n",
       "STL    -0.265711\n",
       "3P%    -0.317208\n",
       "FT%    -0.339498\n",
       "AST    -0.403203\n",
       "3P     -0.408416\n",
       "3PA    -0.416263\n",
       "Name: Pos, dtype: float64"
      ]
     },
     "execution_count": 27,
     "metadata": {},
     "output_type": "execute_result"
    }
   ],
   "source": [
    "corr_matrix[\"Pos\"].sort_values(ascending=False)"
   ]
  },
  {
   "cell_type": "code",
   "execution_count": 38,
   "id": "421ccce3",
   "metadata": {},
   "outputs": [
    {
     "name": "stderr",
     "output_type": "stream",
     "text": [
      "C:\\Users\\srken\\AppData\\Local\\Temp\\ipykernel_39868\\2880620882.py:1: SettingWithCopyWarning: \n",
      "A value is trying to be set on a copy of a slice from a DataFrame.\n",
      "Try using .loc[row_indexer,col_indexer] = value instead\n",
      "\n",
      "See the caveats in the documentation: https://pandas.pydata.org/pandas-docs/stable/user_guide/indexing.html#returning-a-view-versus-a-copy\n",
      "  nba_df2['3PA_per_min'] = nba_df2['3PA']/nba_df2['MP']\n",
      "C:\\Users\\srken\\AppData\\Local\\Temp\\ipykernel_39868\\2880620882.py:2: SettingWithCopyWarning: \n",
      "A value is trying to be set on a copy of a slice from a DataFrame.\n",
      "Try using .loc[row_indexer,col_indexer] = value instead\n",
      "\n",
      "See the caveats in the documentation: https://pandas.pydata.org/pandas-docs/stable/user_guide/indexing.html#returning-a-view-versus-a-copy\n",
      "  nba_df2['STL_per_min'] = nba_df2['STL']/nba_df2['MP']\n",
      "C:\\Users\\srken\\AppData\\Local\\Temp\\ipykernel_39868\\2880620882.py:3: SettingWithCopyWarning: \n",
      "A value is trying to be set on a copy of a slice from a DataFrame.\n",
      "Try using .loc[row_indexer,col_indexer] = value instead\n",
      "\n",
      "See the caveats in the documentation: https://pandas.pydata.org/pandas-docs/stable/user_guide/indexing.html#returning-a-view-versus-a-copy\n",
      "  nba_df2['2PA_per_min'] = nba_df2['2PA']/nba_df2['MP']\n",
      "C:\\Users\\srken\\AppData\\Local\\Temp\\ipykernel_39868\\2880620882.py:4: SettingWithCopyWarning: \n",
      "A value is trying to be set on a copy of a slice from a DataFrame.\n",
      "Try using .loc[row_indexer,col_indexer] = value instead\n",
      "\n",
      "See the caveats in the documentation: https://pandas.pydata.org/pandas-docs/stable/user_guide/indexing.html#returning-a-view-versus-a-copy\n",
      "  nba_df2['FTA_per_min'] = nba_df2['FTA']/nba_df2['MP']\n",
      "C:\\Users\\srken\\AppData\\Local\\Temp\\ipykernel_39868\\2880620882.py:5: SettingWithCopyWarning: \n",
      "A value is trying to be set on a copy of a slice from a DataFrame.\n",
      "Try using .loc[row_indexer,col_indexer] = value instead\n",
      "\n",
      "See the caveats in the documentation: https://pandas.pydata.org/pandas-docs/stable/user_guide/indexing.html#returning-a-view-versus-a-copy\n",
      "  nba_df2['TRB_per_min'] = nba_df2['TRB']/nba_df2['MP']\n",
      "C:\\Users\\srken\\AppData\\Local\\Temp\\ipykernel_39868\\2880620882.py:6: SettingWithCopyWarning: \n",
      "A value is trying to be set on a copy of a slice from a DataFrame.\n",
      "Try using .loc[row_indexer,col_indexer] = value instead\n",
      "\n",
      "See the caveats in the documentation: https://pandas.pydata.org/pandas-docs/stable/user_guide/indexing.html#returning-a-view-versus-a-copy\n",
      "  nba_df2['ORB_per_min'] = nba_df2['ORB']/nba_df2['MP']\n",
      "C:\\Users\\srken\\AppData\\Local\\Temp\\ipykernel_39868\\2880620882.py:7: SettingWithCopyWarning: \n",
      "A value is trying to be set on a copy of a slice from a DataFrame.\n",
      "Try using .loc[row_indexer,col_indexer] = value instead\n",
      "\n",
      "See the caveats in the documentation: https://pandas.pydata.org/pandas-docs/stable/user_guide/indexing.html#returning-a-view-versus-a-copy\n",
      "  nba_df2['DRB_per_min'] = nba_df2['DRB']/nba_df2['MP']\n",
      "C:\\Users\\srken\\AppData\\Local\\Temp\\ipykernel_39868\\2880620882.py:8: SettingWithCopyWarning: \n",
      "A value is trying to be set on a copy of a slice from a DataFrame.\n",
      "Try using .loc[row_indexer,col_indexer] = value instead\n",
      "\n",
      "See the caveats in the documentation: https://pandas.pydata.org/pandas-docs/stable/user_guide/indexing.html#returning-a-view-versus-a-copy\n",
      "  nba_df2['TOV_per_min'] = nba_df2['TOV']/nba_df2['MP']\n",
      "C:\\Users\\srken\\AppData\\Local\\Temp\\ipykernel_39868\\2880620882.py:9: SettingWithCopyWarning: \n",
      "A value is trying to be set on a copy of a slice from a DataFrame.\n",
      "Try using .loc[row_indexer,col_indexer] = value instead\n",
      "\n",
      "See the caveats in the documentation: https://pandas.pydata.org/pandas-docs/stable/user_guide/indexing.html#returning-a-view-versus-a-copy\n",
      "  nba_df2['AST_per_min'] = nba_df2['AST']/nba_df2['MP']\n",
      "C:\\Users\\srken\\AppData\\Local\\Temp\\ipykernel_39868\\2880620882.py:10: SettingWithCopyWarning: \n",
      "A value is trying to be set on a copy of a slice from a DataFrame.\n",
      "Try using .loc[row_indexer,col_indexer] = value instead\n",
      "\n",
      "See the caveats in the documentation: https://pandas.pydata.org/pandas-docs/stable/user_guide/indexing.html#returning-a-view-versus-a-copy\n",
      "  nba_df2['BLK_per_min'] = nba_df2['BLK']/nba_df2['MP']\n",
      "C:\\Users\\srken\\AppData\\Local\\Temp\\ipykernel_39868\\2880620882.py:11: SettingWithCopyWarning: \n",
      "A value is trying to be set on a copy of a slice from a DataFrame.\n",
      "Try using .loc[row_indexer,col_indexer] = value instead\n",
      "\n",
      "See the caveats in the documentation: https://pandas.pydata.org/pandas-docs/stable/user_guide/indexing.html#returning-a-view-versus-a-copy\n",
      "  nba_df2['AST_per_TOV'] = nba_df2['AST']/nba_df2['TOV']\n",
      "C:\\Users\\srken\\AppData\\Local\\Temp\\ipykernel_39868\\2880620882.py:12: SettingWithCopyWarning: \n",
      "A value is trying to be set on a copy of a slice from a DataFrame.\n",
      "Try using .loc[row_indexer,col_indexer] = value instead\n",
      "\n",
      "See the caveats in the documentation: https://pandas.pydata.org/pandas-docs/stable/user_guide/indexing.html#returning-a-view-versus-a-copy\n",
      "  nba_df2['PTS_per_min'] = nba_df2['PTS']/nba_df2['MP']\n"
     ]
    }
   ],
   "source": [
    "nba_df2['3PA_per_min'] = nba_df2['3PA']/nba_df2['MP']\n",
    "nba_df2['STL_per_min'] = nba_df2['STL']/nba_df2['MP']\n",
    "nba_df2['2PA_per_min'] = nba_df2['2PA']/nba_df2['MP']\n",
    "nba_df2['FTA_per_min'] = nba_df2['FTA']/nba_df2['MP']\n",
    "nba_df2['TRB_per_min'] = nba_df2['TRB']/nba_df2['MP']\n",
    "nba_df2['ORB_per_min'] = nba_df2['ORB']/nba_df2['MP']\n",
    "nba_df2['DRB_per_min'] = nba_df2['DRB']/nba_df2['MP']\n",
    "nba_df2['TOV_per_min'] = nba_df2['TOV']/nba_df2['MP']\n",
    "nba_df2['AST_per_min'] = nba_df2['AST']/nba_df2['MP']\n",
    "nba_df2['BLK_per_min'] = nba_df2['BLK']/nba_df2['MP']\n",
    "nba_df2['AST_per_TOV'] = nba_df2['AST']/nba_df2['TOV']\n",
    "nba_df2['PTS_per_min'] = nba_df2['PTS']/nba_df2['MP']"
   ]
  },
  {
   "cell_type": "code",
   "execution_count": 39,
   "id": "ee00290a",
   "metadata": {},
   "outputs": [
    {
     "data": {
      "text/plain": [
       "Pos            1.000000\n",
       "TRB_per_min    0.727791\n",
       "ORB_per_min    0.679477\n",
       "DRB_per_min    0.672452\n",
       "ORB            0.615606\n",
       "BLK_per_min    0.573943\n",
       "FG%            0.530608\n",
       "2P%            0.528608\n",
       "TRB            0.496817\n",
       "BLK            0.479463\n",
       "DRB            0.400281\n",
       "eFG%           0.379411\n",
       "PF             0.220871\n",
       "FTA_per_min    0.160467\n",
       "2PA_per_min    0.132306\n",
       "2P             0.116052\n",
       "Age            0.060011\n",
       "FTA            0.037043\n",
       "2PA            0.026447\n",
       "GS             0.003385\n",
       "FT            -0.019892\n",
       "G             -0.053887\n",
       "PTS_per_min   -0.058388\n",
       "FG            -0.058504\n",
       "TOV_per_min   -0.074894\n",
       "PTS           -0.102946\n",
       "MP            -0.118485\n",
       "TOV           -0.126360\n",
       "FGA           -0.177640\n",
       "STL_per_min   -0.259202\n",
       "STL           -0.265711\n",
       "3P%           -0.317208\n",
       "FT%           -0.339498\n",
       "AST           -0.403203\n",
       "3P            -0.408416\n",
       "3PA           -0.416263\n",
       "3PA_per_min   -0.462173\n",
       "AST_per_min   -0.494193\n",
       "AST_per_TOV   -0.495038\n",
       "Name: Pos, dtype: float64"
      ]
     },
     "execution_count": 39,
     "metadata": {},
     "output_type": "execute_result"
    }
   ],
   "source": [
    "corr_matrix2 = nba_df2.corr()\n",
    "corr_matrix2[\"Pos\"].sort_values(ascending=False)"
   ]
  },
  {
   "cell_type": "code",
   "execution_count": 41,
   "id": "a2f964ff",
   "metadata": {},
   "outputs": [],
   "source": []
  },
  {
   "cell_type": "code",
   "execution_count": 42,
   "id": "59372b9f",
   "metadata": {},
   "outputs": [
    {
     "name": "stderr",
     "output_type": "stream",
     "text": [
      "C:\\Users\\srken\\AppData\\Local\\Temp\\ipykernel_39868\\2790727522.py:1: SettingWithCopyWarning: \n",
      "A value is trying to be set on a copy of a slice from a DataFrame.\n",
      "Try using .loc[row_indexer,col_indexer] = value instead\n",
      "\n",
      "See the caveats in the documentation: https://pandas.pydata.org/pandas-docs/stable/user_guide/indexing.html#returning-a-view-versus-a-copy\n",
      "  nba_df2[\"mp_cat\"] = pd.cut(nba_df2[\"MP\"],\n"
     ]
    },
    {
     "data": {
      "image/png": "[encoded data removed]",
      "text/plain": [
       "<Figure size 640x480 with 1 Axes>"
      ]
     },
     "metadata": {},
     "output_type": "display_data"
    }
   ],
   "source": [
    "nba_df2[\"mp_cat\"] = pd.cut(nba_df2[\"MP\"],\n",
    "                               bins=[0., 10, 20, 25, 30, 36., np.inf],\n",
    "                               labels=[1, 2, 3, 4, 5, 6])\n",
    "\n",
    "nba_df2[\"mp_cat\"].value_counts().sort_index().plot.bar(rot=0, grid=True)\n",
    "plt.xlabel(\"Minutes category\")\n",
    "plt.ylabel(\"Number of players\")\n",
    "plt.show()"
   ]
  },
  {
   "cell_type": "code",
   "execution_count": 43,
   "id": "fb74f48f",
   "metadata": {},
   "outputs": [
    {
     "data": {
      "text/plain": [
       "2    0.328571\n",
       "5    0.242857\n",
       "4    0.214286\n",
       "3    0.142857\n",
       "1    0.042857\n",
       "6    0.028571\n",
       "Name: mp_cat, dtype: float64"
      ]
     },
     "execution_count": 43,
     "metadata": {},
     "output_type": "execute_result"
    }
   ],
   "source": [
    "from sklearn.model_selection import train_test_split\n",
    "strat_train_set, strat_test_set = train_test_split(\n",
    "    nba_df2, test_size=0.2, stratify=nba_df2[\"mp_cat\"], random_state=42)\n",
    "\n",
    "strat_test_set['mp_cat'].value_counts()/len(strat_test_set)"
   ]
  },
  {
   "cell_type": "code",
   "execution_count": 44,
   "id": "367e2f2a",
   "metadata": {},
   "outputs": [],
   "source": [
    "for set_ in (strat_train_set, strat_test_set):\n",
    "    set_.drop(\"mp_cat\", axis=1, inplace=True)"
   ]
  },
  {
   "cell_type": "code",
   "execution_count": 47,
   "id": "f60f0f2a",
   "metadata": {},
   "outputs": [],
   "source": [
    "nba_train = strat_train_set.copy()\n",
    "nba_test = strat_test_set.copy()"
   ]
  },
  {
   "cell_type": "code",
   "execution_count": 48,
   "id": "40e6dc50",
   "metadata": {},
   "outputs": [],
   "source": [
    "relevant_cols = [\"PTS\", \"3PA_per_min\", \"3P%\", \"2PA_per_min\", \"2P%\",\n",
    "                 \"FTA_per_min\", \"FT%\", \"TRB_per_min\", \"AST_per_TOV\", \"STL\", \"BLK_per_min\"]\n",
    "X_train = nba_train[relevant_cols]\n",
    "X_test = nba_test[relevant_cols]"
   ]
  },
  {
   "cell_type": "code",
   "execution_count": 49,
   "id": "ffcdf72e",
   "metadata": {},
   "outputs": [
    {
     "name": "stdout",
     "output_type": "stream",
     "text": [
      "      PTS  3PA_per_min    3P%  2PA_per_min    2P%  FTA_per_min    FT%  \\\n",
      "Rk                                                                      \n",
      "314   9.3     0.128631  0.373     0.190871  0.516     0.058091  0.763   \n",
      "517   5.4     0.237705  0.375     0.139344  0.549     0.032787  0.800   \n",
      "267  11.0     0.118033  0.418     0.134426  0.568     0.068852  0.867   \n",
      "249   7.9     0.000000  0.000     0.295181  0.704     0.114458  0.561   \n",
      "400   9.2     0.120301  0.385     0.184211  0.499     0.041353  0.633   \n",
      "\n",
      "     TRB_per_min  AST_per_TOV  STL  BLK_per_min  \n",
      "Rk                                               \n",
      "314     0.149378     2.500000  1.2     0.004149  \n",
      "517     0.188525     1.666667  0.5     0.016393  \n",
      "267     0.118033     2.166667  1.4     0.026230  \n",
      "249     0.301205     1.714286  0.4     0.066265  \n",
      "400     0.218045     3.083333  0.8     0.007519  \n",
      "Rk\n",
      "314    1\n",
      "517    4\n",
      "267    3\n",
      "249    4\n",
      "400    2\n",
      "Name: Pos, dtype: int64\n"
     ]
    }
   ],
   "source": [
    "y_train = nba_train['Pos']\n",
    "y_test = nba_test['Pos']\n",
    "\n",
    "print(X_train.head())\n",
    "print(y_train.head())"
   ]
  },
  {
   "cell_type": "code",
   "execution_count": 50,
   "id": "d675d56c",
   "metadata": {},
   "outputs": [],
   "source": [
    "from sklearn.preprocessing import MinMaxScaler\n",
    "\n",
    "scaler = MinMaxScaler(feature_range = (-1, 1))\n",
    "\n",
    "scaler.fit(X_train)\n",
    "\n",
    "X_train_scaled = scaler.transform(X_train)"
   ]
  },
  {
   "cell_type": "code",
   "execution_count": 51,
   "id": "3fde6cd3",
   "metadata": {},
   "outputs": [],
   "source": [
    "scaler2 = MinMaxScaler(feature_range = (-1, 1))\n",
    "\n",
    "scaler2.fit(X_test)\n",
    "\n",
    "X_test_scaled = scaler.transform(X_test)"
   ]
  },
  {
   "cell_type": "code",
   "execution_count": 70,
   "id": "43bfa36b",
   "metadata": {},
   "outputs": [],
   "source": [
    "from sklearn.tree import DecisionTreeClassifier\n",
    "from sklearn.ensemble import RandomForestClassifier\n",
    "from sklearn.ensemble import AdaBoostClassifier\n",
    "\n",
    "from sklearn.model_selection import cross_val_score\n",
    "from sklearn.model_selection import RandomizedSearchCV\n",
    "from sklearn.metrics import accuracy_score\n",
    "\n",
    "import tensorflow as tf\n",
    "from tensorflow.keras.models import Sequential\n",
    "from tensorflow.keras.layers import Dense\n",
    "from tensorflow.keras.activations import linear, relu, softmax\n",
    "from sklearn.preprocessing import StandardScaler"
   ]
  },
  {
   "cell_type": "code",
   "execution_count": 56,
   "id": "30c901b5",
   "metadata": {},
   "outputs": [],
   "source": [
    "min_samples_leaf_list = [2,10, 30, 50, 100, 200, 300, 700]  \n",
    "max_depth_list = [2, 4, 8, 16, 32, 64, None]\n",
    "n_estimators_list = [10,50,100,500]\n",
    "learning_rate_list =[0.01, 0.1, 0.3,0.5]"
   ]
  },
  {
   "cell_type": "code",
   "execution_count": 62,
   "id": "d7e9ef9b",
   "metadata": {},
   "outputs": [
    {
     "data": {
      "text/plain": [
       "{'min_samples_leaf': 30, 'max_depth': 4}"
      ]
     },
     "execution_count": 62,
     "metadata": {},
     "output_type": "execute_result"
    }
   ],
   "source": [
    "parameters = {'max_depth':max_depth_list,\n",
    "              'min_samples_leaf':min_samples_leaf_list, }\n",
    "clf = RandomizedSearchCV(DecisionTreeClassifier(), parameters)\n",
    "clf.fit(X_train, y_train)\n",
    "sorted(clf.cv_results_.keys())\n",
    "clf.best_params_"
   ]
  },
  {
   "cell_type": "code",
   "execution_count": 63,
   "id": "581fd75c",
   "metadata": {},
   "outputs": [
    {
     "data": {
      "text/plain": [
       "{'n_estimators': 10, 'min_samples_leaf': 10, 'max_depth': 4}"
      ]
     },
     "execution_count": 63,
     "metadata": {},
     "output_type": "execute_result"
    }
   ],
   "source": [
    "parameters = {'max_depth':max_depth_list, \n",
    "              'min_samples_leaf':min_samples_leaf_list, \n",
    "              'n_estimators': n_estimators_list, }\n",
    "clf = RandomizedSearchCV(RandomForestClassifier(), parameters)\n",
    "clf.fit(X_train, y_train)\n",
    "sorted(clf.cv_results_.keys())\n",
    "clf.best_params_"
   ]
  },
  {
   "cell_type": "code",
   "execution_count": 64,
   "id": "c929d475",
   "metadata": {},
   "outputs": [
    {
     "data": {
      "text/plain": [
       "{'n_estimators': 10, 'learning_rate': 0.3}"
      ]
     },
     "execution_count": 64,
     "metadata": {},
     "output_type": "execute_result"
    }
   ],
   "source": [
    "parameters = {'n_estimators': n_estimators_list, \n",
    "              'learning_rate': learning_rate_list}\n",
    "clf = RandomizedSearchCV(AdaBoostClassifier(), parameters)\n",
    "clf.fit(X_train, y_train)\n",
    "sorted(clf.cv_results_.keys())\n",
    "clf.best_params_"
   ]
  },
  {
   "cell_type": "code",
   "execution_count": 65,
   "id": "a8927e90",
   "metadata": {},
   "outputs": [],
   "source": [
    "d_tree_clf = DecisionTreeClassifier(max_depth = 4, min_samples_leaf = 30)\n",
    "r_f_clf = RandomForestClassifier(max_depth = 4, min_samples_leaf = 10, n_estimators = 10)\n",
    "ada_clf = AdaBoostClassifier(learning_rate = 0.3, n_estimators = 10)"
   ]
  },
  {
   "cell_type": "code",
   "execution_count": 67,
   "id": "0c91c2d4",
   "metadata": {},
   "outputs": [
    {
     "data": {
      "text/plain": [
       "AdaBoostClassifier(learning_rate=0.3, n_estimators=10)"
      ]
     },
     "execution_count": 67,
     "metadata": {},
     "output_type": "execute_result"
    }
   ],
   "source": [
    "d_tree_clf.fit(X_train, y_train)\n",
    "r_f_clf.fit(X_train, y_train)\n",
    "ada_clf.fit(X_train, y_train)"
   ]
  },
  {
   "cell_type": "code",
   "execution_count": 73,
   "id": "b40d7d4a",
   "metadata": {},
   "outputs": [
    {
     "name": "stdout",
     "output_type": "stream",
     "text": [
      "0.5755395683453237\n",
      "0.5\n"
     ]
    }
   ],
   "source": [
    "de_pred_train = d_tree_clf.predict(X_train)\n",
    "de_pred_test = d_tree_clf.predict(X_test) \n",
    "\n",
    "print(accuracy_score(y_train, de_pred_train))\n",
    "print(accuracy_score(y_test, de_pred_test))"
   ]
  },
  {
   "cell_type": "code",
   "execution_count": 74,
   "id": "2926f32d",
   "metadata": {},
   "outputs": [
    {
     "name": "stdout",
     "output_type": "stream",
     "text": [
      "0.6258992805755396\n",
      "0.5285714285714286\n"
     ]
    }
   ],
   "source": [
    "rf_pred_train = r_f_clf.predict(X_train)\n",
    "rf_pred_test = r_f_clf.predict(X_test) \n",
    "\n",
    "print(accuracy_score(y_train, rf_pred_train))\n",
    "print(accuracy_score(y_test, rf_pred_test))"
   ]
  },
  {
   "cell_type": "code",
   "execution_count": 75,
   "id": "ff18b8e4",
   "metadata": {},
   "outputs": [
    {
     "name": "stdout",
     "output_type": "stream",
     "text": [
      "0.43884892086330934\n",
      "0.4142857142857143\n"
     ]
    }
   ],
   "source": [
    "a_pred_train = ada_clf.predict(X_train)\n",
    "a_pred_test = ada_clf.predict(X_test) \n",
    "\n",
    "print(accuracy_score(y_train, a_pred_train))\n",
    "print(accuracy_score(y_test, a_pred_test))"
   ]
  },
  {
   "cell_type": "code",
   "execution_count": 82,
   "id": "1d7d1702",
   "metadata": {},
   "outputs": [
    {
     "name": "stdout",
     "output_type": "stream",
     "text": [
      "[5 4 1 5 3] [5 3 1 5 3] [4 3 1 5 2] Rk\n",
      "24     5\n",
      "389    3\n",
      "298    1\n",
      "176    5\n",
      "90     2\n",
      "Name: Pos, dtype: int64\n"
     ]
    }
   ],
   "source": [
    "print(a_pred_test[:5], rf_pred_test[:5], de_pred_test[:5], y_test[:5])"
   ]
  },
  {
   "cell_type": "code",
   "execution_count": 120,
   "id": "e4e906de",
   "metadata": {},
   "outputs": [
    {
     "name": "stdout",
     "output_type": "stream",
     "text": [
      "[[4]\n",
      " [2]\n",
      " [0]\n",
      " [4]\n",
      " [1]]\n"
     ]
    },
    {
     "data": {
      "text/plain": [
       "(70, 1)"
      ]
     },
     "execution_count": 120,
     "metadata": {},
     "output_type": "execute_result"
    }
   ],
   "source": [
    "X_train_np=X_train.values\n",
    "X_train_np = np.asarray(X_train_np).astype(np.float32)\n",
    "y_train_np=y_train.values\n",
    "y_train_np = y_train_np-1 # need categories as 0-4, not 1-5 for softmax output\n",
    "y_train_np=y_train_np.reshape(y_train_np.size,1)\n",
    "\n",
    "X_test_np=X_test.values\n",
    "X_test_np = np.asarray(X_test_np).astype(np.float32)\n",
    "y_test_np=y_test.values\n",
    "y_test_np = y_test_np-1\n",
    "y_test_np=y_test_np.reshape(y_test_np.size,1)\n",
    "\n",
    "print(y_test_np[:5])\n",
    "y_test_np.shape"
   ]
  },
  {
   "cell_type": "code",
   "execution_count": 121,
   "id": "e2cc2a16",
   "metadata": {},
   "outputs": [],
   "source": [
    "model = Sequential(\n",
    "[\n",
    "    Dense(100, activation=\"relu\"),\n",
    "    Dense(300, activation=\"relu\"),\n",
    "    Dense(5, activation=\"softmax\")\n",
    "])"
   ]
  },
  {
   "cell_type": "code",
   "execution_count": 122,
   "id": "19ab32c6",
   "metadata": {},
   "outputs": [
    {
     "name": "stdout",
     "output_type": "stream",
     "text": [
      "Epoch 1/50\n",
      "9/9 [==============================] - 1s 3ms/step - loss: 1.7365 - accuracy: 0.1906\n",
      "Epoch 2/50\n",
      "9/9 [==============================] - 0s 4ms/step - loss: 1.6114 - accuracy: 0.2806\n",
      "Epoch 3/50\n",
      "9/9 [==============================] - 0s 4ms/step - loss: 1.5786 - accuracy: 0.2590\n",
      "Epoch 4/50\n",
      "9/9 [==============================] - 0s 5ms/step - loss: 1.5784 - accuracy: 0.2770\n",
      "Epoch 5/50\n",
      "9/9 [==============================] - 0s 5ms/step - loss: 1.5556 - accuracy: 0.2734\n",
      "Epoch 6/50\n",
      "9/9 [==============================] - 0s 5ms/step - loss: 1.5338 - accuracy: 0.3094\n",
      "Epoch 7/50\n",
      "9/9 [==============================] - 0s 5ms/step - loss: 1.5175 - accuracy: 0.3094\n",
      "Epoch 8/50\n",
      "9/9 [==============================] - 0s 4ms/step - loss: 1.5094 - accuracy: 0.3669\n",
      "Epoch 9/50\n",
      "9/9 [==============================] - 0s 5ms/step - loss: 1.5046 - accuracy: 0.3165\n",
      "Epoch 10/50\n",
      "9/9 [==============================] - 0s 4ms/step - loss: 1.4884 - accuracy: 0.3453\n",
      "Epoch 11/50\n",
      "9/9 [==============================] - 0s 5ms/step - loss: 1.4623 - accuracy: 0.3705\n",
      "Epoch 12/50\n",
      "9/9 [==============================] - 0s 3ms/step - loss: 1.4287 - accuracy: 0.4065\n",
      "Epoch 13/50\n",
      "9/9 [==============================] - 0s 4ms/step - loss: 1.4300 - accuracy: 0.3777\n",
      "Epoch 14/50\n",
      "9/9 [==============================] - 0s 4ms/step - loss: 1.4484 - accuracy: 0.4137\n",
      "Epoch 15/50\n",
      "9/9 [==============================] - 0s 4ms/step - loss: 1.4185 - accuracy: 0.3489\n",
      "Epoch 16/50\n",
      "9/9 [==============================] - 0s 4ms/step - loss: 1.3832 - accuracy: 0.3993\n",
      "Epoch 17/50\n",
      "9/9 [==============================] - 0s 2ms/step - loss: 1.3716 - accuracy: 0.4209\n",
      "Epoch 18/50\n",
      "9/9 [==============================] - 0s 4ms/step - loss: 1.3723 - accuracy: 0.3957\n",
      "Epoch 19/50\n",
      "9/9 [==============================] - 0s 3ms/step - loss: 1.3532 - accuracy: 0.4353\n",
      "Epoch 20/50\n",
      "9/9 [==============================] - 0s 4ms/step - loss: 1.3176 - accuracy: 0.4424\n",
      "Epoch 21/50\n",
      "9/9 [==============================] - 0s 4ms/step - loss: 1.3278 - accuracy: 0.4353\n",
      "Epoch 22/50\n",
      "9/9 [==============================] - 0s 4ms/step - loss: 1.3112 - accuracy: 0.3993\n",
      "Epoch 23/50\n",
      "9/9 [==============================] - 0s 3ms/step - loss: 1.3097 - accuracy: 0.4424\n",
      "Epoch 24/50\n",
      "9/9 [==============================] - 0s 5ms/step - loss: 1.3078 - accuracy: 0.4460\n",
      "Epoch 25/50\n",
      "9/9 [==============================] - 0s 5ms/step - loss: 1.3024 - accuracy: 0.4388\n",
      "Epoch 26/50\n",
      "9/9 [==============================] - 0s 4ms/step - loss: 1.2988 - accuracy: 0.4209\n",
      "Epoch 27/50\n",
      "9/9 [==============================] - 0s 4ms/step - loss: 1.2646 - accuracy: 0.4388\n",
      "Epoch 28/50\n",
      "9/9 [==============================] - 0s 5ms/step - loss: 1.2515 - accuracy: 0.4712\n",
      "Epoch 29/50\n",
      "9/9 [==============================] - 0s 2ms/step - loss: 1.2408 - accuracy: 0.4496\n",
      "Epoch 30/50\n",
      "9/9 [==============================] - 0s 4ms/step - loss: 1.2415 - accuracy: 0.4209\n",
      "Epoch 31/50\n",
      "9/9 [==============================] - 0s 5ms/step - loss: 1.2194 - accuracy: 0.4928\n",
      "Epoch 32/50\n",
      "9/9 [==============================] - 0s 5ms/step - loss: 1.2211 - accuracy: 0.4640\n",
      "Epoch 33/50\n",
      "9/9 [==============================] - 0s 6ms/step - loss: 1.2202 - accuracy: 0.4245\n",
      "Epoch 34/50\n",
      "9/9 [==============================] - 0s 5ms/step - loss: 1.2065 - accuracy: 0.4568\n",
      "Epoch 35/50\n",
      "9/9 [==============================] - 0s 7ms/step - loss: 1.1929 - accuracy: 0.4784\n",
      "Epoch 36/50\n",
      "9/9 [==============================] - 0s 4ms/step - loss: 1.1768 - accuracy: 0.4892\n",
      "Epoch 37/50\n",
      "9/9 [==============================] - 0s 4ms/step - loss: 1.1805 - accuracy: 0.4604\n",
      "Epoch 38/50\n",
      "9/9 [==============================] - 0s 5ms/step - loss: 1.1779 - accuracy: 0.4712\n",
      "Epoch 39/50\n",
      "9/9 [==============================] - 0s 5ms/step - loss: 1.1887 - accuracy: 0.4640\n",
      "Epoch 40/50\n",
      "9/9 [==============================] - 0s 4ms/step - loss: 1.1797 - accuracy: 0.4892\n",
      "Epoch 41/50\n",
      "9/9 [==============================] - 0s 6ms/step - loss: 1.1685 - accuracy: 0.4964\n",
      "Epoch 42/50\n",
      "9/9 [==============================] - 0s 9ms/step - loss: 1.1649 - accuracy: 0.4964\n",
      "Epoch 43/50\n",
      "9/9 [==============================] - 0s 6ms/step - loss: 1.1913 - accuracy: 0.4856\n",
      "Epoch 44/50\n",
      "9/9 [==============================] - 0s 6ms/step - loss: 1.1863 - accuracy: 0.4748\n",
      "Epoch 45/50\n",
      "9/9 [==============================] - 0s 4ms/step - loss: 1.1581 - accuracy: 0.4604\n",
      "Epoch 46/50\n",
      "9/9 [==============================] - 0s 6ms/step - loss: 1.1565 - accuracy: 0.5000\n",
      "Epoch 47/50\n",
      "9/9 [==============================] - 0s 3ms/step - loss: 1.1596 - accuracy: 0.4604\n",
      "Epoch 48/50\n",
      "9/9 [==============================] - 0s 6ms/step - loss: 1.1462 - accuracy: 0.4892\n",
      "Epoch 49/50\n",
      "9/9 [==============================] - 0s 6ms/step - loss: 1.1216 - accuracy: 0.4964\n",
      "Epoch 50/50\n",
      "9/9 [==============================] - 0s 5ms/step - loss: 1.1161 - accuracy: 0.5072\n"
     ]
    },
    {
     "data": {
      "text/plain": [
       "<keras.src.callbacks.History at 0x1ed9c7129a0>"
      ]
     },
     "execution_count": 122,
     "metadata": {},
     "output_type": "execute_result"
    }
   ],
   "source": [
    "model.compile(loss=\"sparse_categorical_crossentropy\",\n",
    "\n",
    "optimizer=\"adam\",\n",
    "\n",
    "metrics=[\"accuracy\"]\n",
    "\n",
    ")\n",
    "model.fit(\n",
    "    X_train_np,y_train_np,\n",
    "    epochs=50\n",
    ")"
   ]
  },
  {
   "cell_type": "code",
   "execution_count": 123,
   "id": "646c5152",
   "metadata": {},
   "outputs": [
    {
     "name": "stdout",
     "output_type": "stream",
     "text": [
      "9/9 [==============================] - 0s 3ms/step\n"
     ]
    },
    {
     "data": {
      "text/plain": [
       "array([[3.90001327e-01, 3.10584337e-01, 2.25367531e-01, 6.27608523e-02,\n",
       "        1.12859523e-02],\n",
       "       [5.46260104e-02, 2.87987143e-01, 3.75898808e-01, 1.97009757e-01,\n",
       "        8.44782516e-02],\n",
       "       [2.11408317e-01, 3.46181095e-01, 3.44536930e-01, 8.39668959e-02,\n",
       "        1.39067313e-02],\n",
       "       [7.86917633e-04, 3.99624417e-03, 1.93739310e-02, 9.71431285e-02,\n",
       "        8.78699839e-01],\n",
       "       [5.72708607e-01, 2.29128778e-01, 1.19420245e-01, 6.21344261e-02,\n",
       "        1.66078582e-02],\n",
       "       [3.31996679e-02, 1.27200216e-01, 1.26798183e-01, 1.06528074e-01,\n",
       "        6.06273830e-01],\n",
       "       [1.08200768e-02, 7.49888346e-02, 9.96911302e-02, 1.02683619e-01,\n",
       "        7.11816370e-01],\n",
       "       [7.39329383e-02, 3.41645330e-01, 3.37659270e-01, 1.43321678e-01,\n",
       "        1.03440806e-01],\n",
       "       [1.38506142e-03, 8.18587653e-03, 3.05256452e-02, 1.13613226e-01,\n",
       "        8.46290231e-01],\n",
       "       [1.57485932e-01, 2.63347328e-01, 2.66392678e-01, 2.52136141e-01,\n",
       "        6.06379658e-02]], dtype=float32)"
      ]
     },
     "execution_count": 123,
     "metadata": {},
     "output_type": "execute_result"
    }
   ],
   "source": [
    "y_pred_train = model.predict(X_train_np)\n",
    "y_pred_train[:10]"
   ]
  },
  {
   "cell_type": "code",
   "execution_count": 124,
   "id": "875fdea5",
   "metadata": {},
   "outputs": [
    {
     "name": "stdout",
     "output_type": "stream",
     "text": [
      "0 2 1\n",
      "[0] [3] [2]\n"
     ]
    }
   ],
   "source": [
    "print(y_pred_train[0].argmax(), y_pred_train[1].argmax(), y_pred_train[2].argmax())\n",
    "print(y_train_np[0], y_train_np[1], y_train_np[2])"
   ]
  },
  {
   "cell_type": "code",
   "execution_count": 125,
   "id": "581d76ec",
   "metadata": {},
   "outputs": [
    {
     "name": "stdout",
     "output_type": "stream",
     "text": [
      "9/9 [==============================] - 0s 3ms/step - loss: 1.0931 - accuracy: 0.5180\n"
     ]
    },
    {
     "data": {
      "text/plain": [
       "(278, 1)"
      ]
     },
     "execution_count": 125,
     "metadata": {},
     "output_type": "execute_result"
    }
   ],
   "source": [
    "model.evaluate(X_train_np, y_train_np)\n",
    "y_train_np.shape"
   ]
  },
  {
   "cell_type": "code",
   "execution_count": 126,
   "id": "e50f03c0",
   "metadata": {},
   "outputs": [
    {
     "name": "stdout",
     "output_type": "stream",
     "text": [
      "3/3 [==============================] - 0s 3ms/step\n",
      "3/3 [==============================] - 0s 3ms/step - loss: 1.1681 - accuracy: 0.5143\n"
     ]
    },
    {
     "data": {
      "text/plain": [
       "[1.1680501699447632, 0.5142857432365417]"
      ]
     },
     "execution_count": 126,
     "metadata": {},
     "output_type": "execute_result"
    }
   ],
   "source": [
    "y_pred_test = model.predict(X_test_np)\n",
    "model.evaluate(X_test_np, y_test_np)"
   ]
  },
  {
   "cell_type": "code",
   "execution_count": 127,
   "id": "43c862b6",
   "metadata": {},
   "outputs": [
    {
     "name": "stdout",
     "output_type": "stream",
     "text": [
      "4 2 0\n",
      "[4] [2] [0]\n"
     ]
    }
   ],
   "source": [
    "print(y_pred_test[0].argmax(), y_pred_test[1].argmax(), y_pred_test[2].argmax())\n",
    "print(y_test_np[0], y_test_np[1], y_test_np[2])"
   ]
  },
  {
   "cell_type": "code",
   "execution_count": 128,
   "id": "54fcdac3",
   "metadata": {},
   "outputs": [
    {
     "name": "stdout",
     "output_type": "stream",
     "text": [
      "4 0 1\n",
      "[4] [1] [2]\n"
     ]
    }
   ],
   "source": [
    "print(y_pred_test[3].argmax(), y_pred_test[4].argmax(), y_pred_test[5].argmax())\n",
    "print(y_test_np[3], y_test_np[4], y_test_np[5])"
   ]
  },
  {
   "cell_type": "code",
   "execution_count": null,
   "id": "c7115132",
   "metadata": {},
   "outputs": [],
   "source": []
  }
 ],
 "metadata": {
  "kernelspec": {
   "display_name": "Python 3 (ipykernel)",
   "language": "python",
   "name": "python3"
  },
  "language_info": {
   "codemirror_mode": {
    "name": "ipython",
    "version": 3
   },
   "file_extension": ".py",
   "mimetype": "text/x-python",
   "name": "python",
   "nbconvert_exporter": "python",
   "pygments_lexer": "ipython3",
   "version": "3.9.13"
  }
 },
 "nbformat": 4,
 "nbformat_minor": 5
}
